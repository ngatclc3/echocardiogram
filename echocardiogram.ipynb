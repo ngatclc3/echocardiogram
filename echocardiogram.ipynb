{
  "nbformat": 4,
  "nbformat_minor": 0,
  "metadata": {
    "colab": {
      "name": "echocardiogram (1).ipynb",
      "provenance": [],
      "collapsed_sections": [],
      "include_colab_link": true
    },
    "kernelspec": {
      "display_name": "Python 3",
      "name": "python3"
    },
    "language_info": {
      "name": "python"
    },
    "widgets": {
      "application/vnd.jupyter.widget-state+json": {
        "f4392e092b0f464a8569633bc7c05bf5": {
          "model_module": "@jupyter-widgets/controls",
          "model_name": "HBoxModel",
          "model_module_version": "1.5.0",
          "state": {
            "_view_name": "HBoxView",
            "_dom_classes": [],
            "_model_name": "HBoxModel",
            "_view_module": "@jupyter-widgets/controls",
            "_model_module_version": "1.5.0",
            "_view_count": null,
            "_view_module_version": "1.5.0",
            "box_style": "",
            "layout": "IPY_MODEL_58d0150868744788b8851c5fb884b064",
            "_model_module": "@jupyter-widgets/controls",
            "children": [
              "IPY_MODEL_0920ea9622314f75aa1f7b7adad2b158",
              "IPY_MODEL_4fa7e262bdbf41409911fbc3f175c197",
              "IPY_MODEL_cfa86fb53f9747659b33be83102d47c1"
            ]
          }
        },
        "58d0150868744788b8851c5fb884b064": {
          "model_module": "@jupyter-widgets/base",
          "model_name": "LayoutModel",
          "model_module_version": "1.2.0",
          "state": {
            "_view_name": "LayoutView",
            "grid_template_rows": null,
            "right": null,
            "justify_content": null,
            "_view_module": "@jupyter-widgets/base",
            "overflow": null,
            "_model_module_version": "1.2.0",
            "_view_count": null,
            "flex_flow": null,
            "width": null,
            "min_width": null,
            "border": null,
            "align_items": null,
            "bottom": null,
            "_model_module": "@jupyter-widgets/base",
            "top": null,
            "grid_column": null,
            "overflow_y": null,
            "overflow_x": null,
            "grid_auto_flow": null,
            "grid_area": null,
            "grid_template_columns": null,
            "flex": null,
            "_model_name": "LayoutModel",
            "justify_items": null,
            "grid_row": null,
            "max_height": null,
            "align_content": null,
            "visibility": null,
            "align_self": null,
            "height": null,
            "min_height": null,
            "padding": null,
            "grid_auto_rows": null,
            "grid_gap": null,
            "max_width": null,
            "order": null,
            "_view_module_version": "1.2.0",
            "grid_template_areas": null,
            "object_position": null,
            "object_fit": null,
            "grid_auto_columns": null,
            "margin": null,
            "display": null,
            "left": null
          }
        },
        "0920ea9622314f75aa1f7b7adad2b158": {
          "model_module": "@jupyter-widgets/controls",
          "model_name": "HTMLModel",
          "model_module_version": "1.5.0",
          "state": {
            "_view_name": "HTMLView",
            "style": "IPY_MODEL_359799bc273d4923a80a9213e6555e31",
            "_dom_classes": [],
            "description": "",
            "_model_name": "HTMLModel",
            "placeholder": "​",
            "_view_module": "@jupyter-widgets/controls",
            "_model_module_version": "1.5.0",
            "value": "100%",
            "_view_count": null,
            "_view_module_version": "1.5.0",
            "description_tooltip": null,
            "_model_module": "@jupyter-widgets/controls",
            "layout": "IPY_MODEL_72f7671ee0164547bf8d552728dc3fc6"
          }
        },
        "4fa7e262bdbf41409911fbc3f175c197": {
          "model_module": "@jupyter-widgets/controls",
          "model_name": "FloatProgressModel",
          "model_module_version": "1.5.0",
          "state": {
            "_view_name": "ProgressView",
            "style": "IPY_MODEL_56efc15313054f2b99ea748e8735646e",
            "_dom_classes": [],
            "description": "",
            "_model_name": "FloatProgressModel",
            "bar_style": "success",
            "max": 244408911,
            "_view_module": "@jupyter-widgets/controls",
            "_model_module_version": "1.5.0",
            "value": 244408911,
            "_view_count": null,
            "_view_module_version": "1.5.0",
            "orientation": "horizontal",
            "min": 0,
            "description_tooltip": null,
            "_model_module": "@jupyter-widgets/controls",
            "layout": "IPY_MODEL_d8104862fcea4b46bd29c87f2e3e0ea3"
          }
        },
        "cfa86fb53f9747659b33be83102d47c1": {
          "model_module": "@jupyter-widgets/controls",
          "model_name": "HTMLModel",
          "model_module_version": "1.5.0",
          "state": {
            "_view_name": "HTMLView",
            "style": "IPY_MODEL_eff4e7a56a60482795bb4e110cc53c1d",
            "_dom_classes": [],
            "description": "",
            "_model_name": "HTMLModel",
            "placeholder": "​",
            "_view_module": "@jupyter-widgets/controls",
            "_model_module_version": "1.5.0",
            "value": " 233M/233M [00:04&lt;00:00, 67.2MB/s]",
            "_view_count": null,
            "_view_module_version": "1.5.0",
            "description_tooltip": null,
            "_model_module": "@jupyter-widgets/controls",
            "layout": "IPY_MODEL_4c81d74bb8c341ee99216aa236421969"
          }
        },
        "359799bc273d4923a80a9213e6555e31": {
          "model_module": "@jupyter-widgets/controls",
          "model_name": "DescriptionStyleModel",
          "model_module_version": "1.5.0",
          "state": {
            "_view_name": "StyleView",
            "_model_name": "DescriptionStyleModel",
            "description_width": "",
            "_view_module": "@jupyter-widgets/base",
            "_model_module_version": "1.5.0",
            "_view_count": null,
            "_view_module_version": "1.2.0",
            "_model_module": "@jupyter-widgets/controls"
          }
        },
        "72f7671ee0164547bf8d552728dc3fc6": {
          "model_module": "@jupyter-widgets/base",
          "model_name": "LayoutModel",
          "model_module_version": "1.2.0",
          "state": {
            "_view_name": "LayoutView",
            "grid_template_rows": null,
            "right": null,
            "justify_content": null,
            "_view_module": "@jupyter-widgets/base",
            "overflow": null,
            "_model_module_version": "1.2.0",
            "_view_count": null,
            "flex_flow": null,
            "width": null,
            "min_width": null,
            "border": null,
            "align_items": null,
            "bottom": null,
            "_model_module": "@jupyter-widgets/base",
            "top": null,
            "grid_column": null,
            "overflow_y": null,
            "overflow_x": null,
            "grid_auto_flow": null,
            "grid_area": null,
            "grid_template_columns": null,
            "flex": null,
            "_model_name": "LayoutModel",
            "justify_items": null,
            "grid_row": null,
            "max_height": null,
            "align_content": null,
            "visibility": null,
            "align_self": null,
            "height": null,
            "min_height": null,
            "padding": null,
            "grid_auto_rows": null,
            "grid_gap": null,
            "max_width": null,
            "order": null,
            "_view_module_version": "1.2.0",
            "grid_template_areas": null,
            "object_position": null,
            "object_fit": null,
            "grid_auto_columns": null,
            "margin": null,
            "display": null,
            "left": null
          }
        },
        "56efc15313054f2b99ea748e8735646e": {
          "model_module": "@jupyter-widgets/controls",
          "model_name": "ProgressStyleModel",
          "model_module_version": "1.5.0",
          "state": {
            "_view_name": "StyleView",
            "_model_name": "ProgressStyleModel",
            "description_width": "",
            "_view_module": "@jupyter-widgets/base",
            "_model_module_version": "1.5.0",
            "_view_count": null,
            "_view_module_version": "1.2.0",
            "bar_color": null,
            "_model_module": "@jupyter-widgets/controls"
          }
        },
        "d8104862fcea4b46bd29c87f2e3e0ea3": {
          "model_module": "@jupyter-widgets/base",
          "model_name": "LayoutModel",
          "model_module_version": "1.2.0",
          "state": {
            "_view_name": "LayoutView",
            "grid_template_rows": null,
            "right": null,
            "justify_content": null,
            "_view_module": "@jupyter-widgets/base",
            "overflow": null,
            "_model_module_version": "1.2.0",
            "_view_count": null,
            "flex_flow": null,
            "width": null,
            "min_width": null,
            "border": null,
            "align_items": null,
            "bottom": null,
            "_model_module": "@jupyter-widgets/base",
            "top": null,
            "grid_column": null,
            "overflow_y": null,
            "overflow_x": null,
            "grid_auto_flow": null,
            "grid_area": null,
            "grid_template_columns": null,
            "flex": null,
            "_model_name": "LayoutModel",
            "justify_items": null,
            "grid_row": null,
            "max_height": null,
            "align_content": null,
            "visibility": null,
            "align_self": null,
            "height": null,
            "min_height": null,
            "padding": null,
            "grid_auto_rows": null,
            "grid_gap": null,
            "max_width": null,
            "order": null,
            "_view_module_version": "1.2.0",
            "grid_template_areas": null,
            "object_position": null,
            "object_fit": null,
            "grid_auto_columns": null,
            "margin": null,
            "display": null,
            "left": null
          }
        },
        "eff4e7a56a60482795bb4e110cc53c1d": {
          "model_module": "@jupyter-widgets/controls",
          "model_name": "DescriptionStyleModel",
          "model_module_version": "1.5.0",
          "state": {
            "_view_name": "StyleView",
            "_model_name": "DescriptionStyleModel",
            "description_width": "",
            "_view_module": "@jupyter-widgets/base",
            "_model_module_version": "1.5.0",
            "_view_count": null,
            "_view_module_version": "1.2.0",
            "_model_module": "@jupyter-widgets/controls"
          }
        },
        "4c81d74bb8c341ee99216aa236421969": {
          "model_module": "@jupyter-widgets/base",
          "model_name": "LayoutModel",
          "model_module_version": "1.2.0",
          "state": {
            "_view_name": "LayoutView",
            "grid_template_rows": null,
            "right": null,
            "justify_content": null,
            "_view_module": "@jupyter-widgets/base",
            "overflow": null,
            "_model_module_version": "1.2.0",
            "_view_count": null,
            "flex_flow": null,
            "width": null,
            "min_width": null,
            "border": null,
            "align_items": null,
            "bottom": null,
            "_model_module": "@jupyter-widgets/base",
            "top": null,
            "grid_column": null,
            "overflow_y": null,
            "overflow_x": null,
            "grid_auto_flow": null,
            "grid_area": null,
            "grid_template_columns": null,
            "flex": null,
            "_model_name": "LayoutModel",
            "justify_items": null,
            "grid_row": null,
            "max_height": null,
            "align_content": null,
            "visibility": null,
            "align_self": null,
            "height": null,
            "min_height": null,
            "padding": null,
            "grid_auto_rows": null,
            "grid_gap": null,
            "max_width": null,
            "order": null,
            "_view_module_version": "1.2.0",
            "grid_template_areas": null,
            "object_position": null,
            "object_fit": null,
            "grid_auto_columns": null,
            "margin": null,
            "display": null,
            "left": null
          }
        }
      }
    }
  },
  "cells": [
    {
      "cell_type": "markdown",
      "metadata": {
        "id": "view-in-github",
        "colab_type": "text"
      },
      "source": [
        "<a href=\"https://colab.research.google.com/github/ngatclc3/echocardiogram/blob/main/echocardiogram.ipynb\" target=\"_parent\"><img src=\"https://colab.research.google.com/assets/colab-badge.svg\" alt=\"Open In Colab\"/></a>"
      ]
    },
    {
      "cell_type": "markdown",
      "metadata": {
        "id": "tvC1KS09CjaA"
      },
      "source": [
        "Import library and *package*"
      ]
    },
    {
      "cell_type": "code",
      "metadata": {
        "id": "6jL0-Dx9MNhD"
      },
      "source": [
        "import torch\n",
        "import matplotlib.pyplot as plt\n",
        "\n",
        "from torch import nn, optim\n",
        "from torch.utils.data import Dataset, DataLoader\n",
        "from torchvision.datasets import ImageFolder"
      ],
      "execution_count": 2,
      "outputs": []
    },
    {
      "cell_type": "code",
      "metadata": {
        "colab": {
          "base_uri": "https://localhost:8080/"
        },
        "id": "Zq0JzbaCNJTV",
        "outputId": "667cdeee-c4a2-4529-ab5a-9888ebbc9c1f"
      },
      "source": [
        "from google.colab import drive\n",
        "drive.mount('/content/drive')\n",
        "train_path = \"/content/drive/MyDrive/Colab/assets/DATA_CHAMBER_2021/train\"\n",
        "test_path = \"/content/drive/MyDrive/Colab/assets/DATA_CHAMBER_2021/test\""
      ],
      "execution_count": 26,
      "outputs": [
        {
          "output_type": "stream",
          "name": "stdout",
          "text": [
            "Mounted at /content/drive\n"
          ]
        }
      ]
    },
    {
      "cell_type": "code",
      "metadata": {
        "id": "x2KNT4EMTL-z"
      },
      "source": [
        "from torchvision import transforms\n",
        "\n",
        "# Generate different transformations for each data type\n",
        "CJ = transforms.ColorJitter()\n",
        "Rs = transforms.Resize((224, 224))\n",
        "CC = transforms.CenterCrop(size=224)\n",
        "RR = transforms.RandomRotation(degrees=15)\n",
        "RRC = transforms.RandomResizedCrop(size=256, scale=(0.8, 1.0))\n",
        "\n",
        "RC = transforms.RandomCrop(32, padding=4)\n",
        "RHF = transforms.RandomHorizontalFlip()\n",
        "RVF = transforms.RandomVerticalFlip()\n",
        "TPI = transforms.ToPILImage()\n",
        "TT = transforms.ToTensor()\n",
        "Nml = transforms.Normalize((0.4914, 0.4822, 0.4465), (0.2023, 0.1994, 0.2010))\n",
        "\n",
        "transform_train_preprocess =  transforms.Compose([Rs, CJ, RR, TT, Nml])\n",
        "transform_train_rescale =  transforms.Compose([Rs, RRC, CC, TT, Nml])\n",
        "transform_train_with_aug = transforms.Compose([Rs, TPI, RC, RHF, TT, Nml])\n",
        "transform_train_no_aug = transforms.Compose([Rs, TT, Nml])\n",
        "\n",
        "transform_test = transforms.Compose([Rs, TT, Nml])"
      ],
      "execution_count": 30,
      "outputs": []
    },
    {
      "cell_type": "code",
      "metadata": {
        "id": "A_NGLbu7o5-i"
      },
      "source": [
        "from torchvision.datasets import ImageFolder\n",
        "from collections import namedtuple\n",
        "\n",
        "TrainTest = namedtuple('TrainTest', ['train', 'test'])\n",
        "classes = ['2C','3C','4C']\n",
        "n_classes = len(classes)\n",
        "\n",
        "\n",
        "def myloader(filename):\n",
        "    return Image.open(filename).convert('RGB')\n",
        "\n",
        "def prepare_data(transform_train):\n",
        "  trainset = ImageFolder(root = train_path, transform = transform_train, loader=myloader)\n",
        "  testset = ImageFolder(root = test_path, transform = transform_test, loader=myloader)\n",
        "  return TrainTest(train = trainset, \n",
        "                   test = testset)\n",
        "  \n",
        "def prepare_loader(datasets):\n",
        "  batch = 32\n",
        "  worker = 2\n",
        "  trainloader = DataLoader(dataset = datasets.train,\n",
        "                           batch_size = batch, \n",
        "                           shuffle = True, \n",
        "                           num_workers = worker)\n",
        "  testloader = DataLoader(dataset = datasets.test, \n",
        "                          batch_size = batch, \n",
        "                          shuffle = False, \n",
        "                          num_workers = worker)\n",
        "  return TrainTest(train = trainloader, \n",
        "                   test = testloader)\n",
        "  \n"
      ],
      "execution_count": 23,
      "outputs": []
    },
    {
      "cell_type": "code",
      "metadata": {
        "id": "ZRQMIHJkTA5L",
        "colab": {
          "base_uri": "https://localhost:8080/",
          "height": 68,
          "referenced_widgets": [
            "f4392e092b0f464a8569633bc7c05bf5",
            "58d0150868744788b8851c5fb884b064",
            "0920ea9622314f75aa1f7b7adad2b158",
            "4fa7e262bdbf41409911fbc3f175c197",
            "cfa86fb53f9747659b33be83102d47c1",
            "359799bc273d4923a80a9213e6555e31",
            "72f7671ee0164547bf8d552728dc3fc6",
            "56efc15313054f2b99ea748e8735646e",
            "d8104862fcea4b46bd29c87f2e3e0ea3",
            "eff4e7a56a60482795bb4e110cc53c1d",
            "4c81d74bb8c341ee99216aa236421969"
          ]
        },
        "outputId": "a32ab329-63dc-4399-f7b8-63740c732814"
      },
      "source": [
        "from torchvision import models\n",
        "\n",
        "# Use pretrained models which are available in torchvision\n",
        "pretrained_models = {\n",
        "    'alexnet': models.alexnet(pretrained=True),\n",
        "    # 'vgg16': models.vgg16(pretrained=True),\n",
        "    # 'googlenet': models.googlenet(pretrained=True),\n",
        "    # 'resnet18': models.resnet18(pretrained=True),\n",
        "    # 'densenet': models.densenet161(pretrained=True),\n",
        "    # 'inception': models.inception_v3(pretrained=True),\n",
        "\n",
        "}"
      ],
      "execution_count": 5,
      "outputs": [
        {
          "output_type": "stream",
          "name": "stderr",
          "text": [
            "Downloading: \"https://download.pytorch.org/models/alexnet-owt-7be5be79.pth\" to /root/.cache/torch/hub/checkpoints/alexnet-owt-7be5be79.pth\n"
          ]
        },
        {
          "output_type": "display_data",
          "data": {
            "application/vnd.jupyter.widget-view+json": {
              "model_id": "f4392e092b0f464a8569633bc7c05bf5",
              "version_minor": 0,
              "version_major": 2
            },
            "text/plain": [
              "  0%|          | 0.00/233M [00:00<?, ?B/s]"
            ]
          },
          "metadata": {}
        }
      ]
    },
    {
      "cell_type": "code",
      "metadata": {
        "id": "kzIZmmN62Mb2"
      },
      "source": [
        "pretrained_models.get('alexnet').eval()"
      ],
      "execution_count": null,
      "outputs": []
    },
    {
      "cell_type": "code",
      "metadata": {
        "id": "EYYoLgOKDlg8"
      },
      "source": [
        "class Alexnet(nn.Module):\n",
        "    def __init__(self):\n",
        "        super(Alexnet, self).__init__()\n",
        "        self.model = models.alexnet()\n",
        "        self.fc1 = nn.Linear(in_features=1000, out_features=n_classes)\n",
        "        \n",
        "    def forward(self, x):\n",
        "        out = self.model\n",
        "        out = self.fc1(out)\n",
        "        return out"
      ],
      "execution_count": 21,
      "outputs": []
    },
    {
      "cell_type": "code",
      "metadata": {
        "id": "Bp3WuCTk2I9R"
      },
      "source": [
        "def get_model(model):"
      ],
      "execution_count": null,
      "outputs": []
    },
    {
      "cell_type": "code",
      "metadata": {
        "id": "Q-BQloSYNWJ7"
      },
      "source": [
        "from torch.nn import CrossEntropyLoss\n",
        "from torch.optim import SGD\n",
        "\n",
        "def get_trainer(model):\n",
        "    loss = CrossEntropyLoss()\n",
        "    optimizer = SGD(model.parameters(), lr=0.01, momentum=0.9, weight_decay=5e-4)\n",
        "    return loss, optimizer\n",
        "\n"
      ],
      "execution_count": 8,
      "outputs": []
    },
    {
      "cell_type": "code",
      "metadata": {
        "id": "e98eVrBGX122"
      },
      "source": [
        "def train_epoch(epoch, model, loader, device):\n",
        "    model.train()\n",
        "    running_loss = 0.0\n",
        "    running_acc = 0\n",
        "\n",
        "    loss, optimizer = get_trainer(model)\n",
        "    \n",
        "    for i, (images, labels) in enumerate(loader):\n",
        "        images, labels = images.to(device), labels.to(device)\n",
        "\n",
        "        optimizer.zero_grad()\n",
        "        outputs = model(images)\n",
        "        loss_train = loss(outputs, labels)\n",
        "\n",
        "        running_loss += loss_train.item()\n",
        "        _, preds = torch.max(outputs, 1)\n",
        "        running_acc += (preds == labels).sum().item()\n",
        "        loss_train.backward()\n",
        "        optimizer.step()\n",
        "\n",
        "    train_loss = running_loss/len(loader.dataset)\n",
        "    train_accuracy = 100. * running_acc/len(loader.dataset)\n",
        "\n",
        "    print(f'Training Loss: {train_loss:.4f}, Training Acc: {train_accuracy:.2f}')\n",
        "    \n",
        "    return train_loss, train_accuracy"
      ],
      "execution_count": 28,
      "outputs": []
    },
    {
      "cell_type": "code",
      "metadata": {
        "id": "uZ4l6kaFX8j2"
      },
      "source": [
        "def test_epoch(epoch, model, loader, device):\n",
        "    model.eval()\n",
        "    running_loss = 0.0\n",
        "    running_acc = 0\n",
        "\n",
        "    loss, _ = get_trainer(model)\n",
        "\n",
        "    for i, (images, labels) in enumerate(loader):\n",
        "        images, labels = images.to(device), labels.to(device)\n",
        "        outputs = model(images)\n",
        "\n",
        "        loss_test = loss(outputs, labels)\n",
        "        \n",
        "        running_loss += loss_test.item()\n",
        "        _, predicted = torch.max(outputs, dim=1)\n",
        "        running_acc += (predicted == labels).sum().item()\n",
        "\n",
        "    test_loss = running_loss/len(loader.dataset)\n",
        "    test_accuracy = 100. * running_acc/len(loader.dataset)\n",
        "\n",
        "    return test_loss, test_accuracy"
      ],
      "execution_count": 18,
      "outputs": []
    },
    {
      "cell_type": "code",
      "metadata": {
        "id": "3lzKJM84NVnr"
      },
      "source": [
        "import time\n",
        "\n",
        "def run(model):\n",
        "    datasets = prepare_data(transform_train_no_aug)\n",
        "    loaders = prepare_loader(datasets)\n",
        "\n",
        "    device = torch.device(\"cuda\" if torch.cuda.is_available() else \"cpu\")\n",
        "    model.to(device=device)\n",
        "\n",
        "    training_loss, training_accuracy = [], []\n",
        "    testing_loss, testing_accuracy = [], []\n",
        "    \n",
        "    start = time.time()\n",
        "\n",
        "    for epoch in range(10):\n",
        "        train_loss, train_acc = train_epoch(epoch, model, loaders.train, device)\n",
        "        test_loss, test_acc = test_epoch(epoch, model, loaders.test, device)\n",
        "\n",
        "        training_loss.append(train_loss)\n",
        "        training_accuracy.append(train_acc)\n",
        "        testing_loss.append(test_loss)\n",
        "        testing_accuracy.append(test_acc)\n",
        "    \n",
        "    end = time.time()\n",
        "    print((end-start)/60, 'minutes')\n",
        "\n",
        "run(Alexnet())"
      ],
      "execution_count": null,
      "outputs": []
    }
  ]
}