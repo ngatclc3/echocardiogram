{
  "nbformat": 4,
  "nbformat_minor": 0,
  "metadata": {
    "colab": {
      "name": "echocardiogram.ipynb",
      "provenance": [],
      "collapsed_sections": []
    },
    "kernelspec": {
      "display_name": "Python 3",
      "name": "python3"
    },
    "language_info": {
      "name": "python"
    }
  },
  "cells": [
    {
      "cell_type": "markdown",
      "metadata": {
        "id": "tvC1KS09CjaA"
      },
      "source": [
        "Import library and *package*"
      ]
    },
    {
      "cell_type": "code",
      "metadata": {
        "colab": {
          "base_uri": "https://localhost:8080/"
        },
        "id": "YT1dGhDinfxs",
        "outputId": "2023cdd5-4697-494e-8ccc-5fe7654d80e5"
      },
      "source": [
        "!wget https://github.com/ngatclc3/echocardiogram/tree/main/assets/DATA_CHAMBER_2021.zip"
      ],
      "execution_count": null,
      "outputs": [
        {
          "output_type": "stream",
          "name": "stdout",
          "text": [
            "--2021-11-11 08:39:18--  https://github.com/ngatclc3/echocardiogram/tree/main/assets/DATA_CHAMBER_2021.zip\n",
            "Resolving github.com (github.com)... 140.82.112.3\n",
            "Connecting to github.com (github.com)|140.82.112.3|:443... connected.\n",
            "HTTP request sent, awaiting response... 301 Moved Permanently\n",
            "Location: https://github.com/ngatclc3/echocardiogram/blob/main/assets/DATA_CHAMBER_2021.zip [following]\n",
            "--2021-11-11 08:39:18--  https://github.com/ngatclc3/echocardiogram/blob/main/assets/DATA_CHAMBER_2021.zip\n",
            "Reusing existing connection to github.com:443.\n",
            "HTTP request sent, awaiting response... 200 OK\n",
            "Length: unspecified [text/html]\n",
            "Saving to: ‘DATA_CHAMBER_2021.zip.1’\n",
            "\n",
            "DATA_CHAMBER_2021.z     [ <=>                ] 133.99K  --.-KB/s    in 0.1s    \n",
            "\n",
            "2021-11-11 08:39:19 (1.18 MB/s) - ‘DATA_CHAMBER_2021.zip.1’ saved [137206]\n",
            "\n"
          ]
        }
      ]
    },
    {
      "cell_type": "code",
      "metadata": {
        "id": "6jL0-Dx9MNhD"
      },
      "source": [
        "import torch\n",
        "import numpy as np\n",
        "import pandas as pd\n",
        "import matplotlib.pyplot as plt\n",
        "\n",
        "from torch import nn, optim\n",
        "from torchvision import transforms\n",
        "\n",
        "from torch.utils.data import Dataset, DataLoader\n",
        "\n",
        "from google.colab import drive\n",
        "import os\n",
        "\n",
        "from torchvision.datasets import ImageFolder\n",
        "\n",
        "from collections import namedtuple\n",
        "from sklearn.metrics import classification_report"
      ],
      "execution_count": null,
      "outputs": []
    },
    {
      "cell_type": "code",
      "metadata": {
        "id": "ZRQMIHJkTA5L"
      },
      "source": [
        "# Use pretrained models which are available in torchvision\n",
        "pretrained_models = {\n",
        "    'vgg16': models.vgg16(pretrained=True),\n",
        "    'resnet18': models.resnet18(pretrained=True),\n",
        "    'densenet': models.densenet161(pretrained=True),\n",
        "    'inception': models.inception_v3(pretrained=True),\n",
        "    'googlenet': models.googlenet(pretrained=True)\n",
        "}"
      ],
      "execution_count": null,
      "outputs": []
    },
    {
      "cell_type": "code",
      "metadata": {
        "id": "x2KNT4EMTL-z"
      },
      "source": [
        "# Generate different transformations for each data type\n",
        "CJ = transforms.ColorJitter()\n",
        "Rs = transforms.Resize(size=64)\n",
        "CC = transforms.CenterCrop(size=224)\n",
        "RR = transforms.RandomRotation(degrees=15)\n",
        "RRC = transforms.RandomResizedCrop(size=256, scale=(0.8, 1.0))\n",
        "\n",
        "RC = transforms.RandomCrop(32, padding=4)\n",
        "RHF = transforms.RandomHorizontalFlip()\n",
        "RVF = transforms.RandomVerticalFlip()\n",
        "TPI = transforms.ToPILImage()\n",
        "TT = transforms.ToTensor()\n",
        "Nml = transforms.Normalize((0.4914, 0.4822, 0.4465), (0.2023, 0.1994, 0.2010))\n",
        "\n",
        "transform_train_preprocess =  transforms.Compose([CJ, RR, TT, Nml])\n",
        "transform_train_rescale =  transforms.Compose([Rs, RRC, CC, TT, Nml])\n",
        "transform_train_with_aug = transforms.Compose([TPI, RC, RHF, TT, Nml])\n",
        "transform_train_no_aug = transforms.Compose([TT, Nml])\n",
        "\n",
        "transform_test = transforms.Compose([TT])"
      ],
      "execution_count": null,
      "outputs": []
    },
    {
      "cell_type": "code",
      "metadata": {
        "id": "A_NGLbu7o5-i"
      },
      "source": [
        "train_path = \"/content/drive/MyDrive/ColabNotebooks/assets/DATA_CHAMBER_2021/train\"\n",
        "test_path = \"/content/drive/MyDrive/ColabNotebooks/assets/DATA_CHAMBER_2021/test\"\n",
        "\n",
        "def prepare_data(transform_train):\n",
        "  trainset = ImageFolder(root = train_path, transform = transform_train)\n",
        "  testset = ImageFolder(root = test_path, transform = transform_test)\n",
        "  return TrainTest(train = trainset, \n",
        "                   test = testset)\n",
        "\n",
        "TrainTest = namedtuple('TrainTest', ['train', 'test'])\n",
        "\n",
        "def prepare_loader(datasets):\n",
        "  batch = 32\n",
        "  worker = 2\n",
        "  trainloader = DataLoader(dataset = datasets.train,\n",
        "                           batch_size = batch, \n",
        "                           shuffle = True, \n",
        "                           num_workers = worker)\n",
        "  testloader = DataLoader(dataset = datasets.test, \n",
        "                          batch_size = batch, \n",
        "                          shuffle = False, \n",
        "                          num_workers = worker)\n",
        "  return TrainTest(train = trainloader, \n",
        "                   test = testloader)\n"
      ],
      "execution_count": null,
      "outputs": []
    },
    {
      "cell_type": "code",
      "metadata": {
        "id": "Q-BQloSYNWJ7"
      },
      "source": [
        "def get_trainer(model):\n",
        "    loss = nn.CrossEntropyLoss()\n",
        "    optimizer = optim.SGD(model.parameters(), lr=0.01, momentum=0.9, weight_decay=5e-4)\n",
        "    return loss, optimizer\n",
        "\n",
        "def train_epoch(epoch, model, loader, device):\n",
        "    model.train()\n",
        "    running_loss = 0.0\n",
        "    reporting_step = 30\n",
        "\n",
        "    loss, optimizer = get_trainer(model)\n",
        "\n",
        "    for i, (images, labels) in enumerate(loader):\n",
        "        images, labels = images.to(device), labels.to(device)\n",
        "\n",
        "        optimizer.zero_grad()\n",
        "        outputs = model(images)\n",
        "        loss = loss(outputs, labels)\n",
        "        loss.backward()\n",
        "        optimizer.step()\n",
        "        \n",
        "        running_loss += loss.item()\n",
        "        if i % reporting_step == reporting_step-1:\n",
        "            print(f\"Epoch {epoch} Step {i} ave_loss {running_loss/reporting_step:0.4f}\")\n",
        "            running_loss = 0.0\n",
        "            \n",
        "def test_epoch(epoch, model, loader, device):\n",
        "    model.eval()\n",
        "    ypred = []\n",
        "    ytrue = []\n",
        "    for i, (images, labels) in enumerate(loader):\n",
        "        images, labels = images.to(device), labels.to(device)\n",
        "\n",
        "        outputs = model(images)\n",
        "        _, predicted = torch.max(outputs, dim=1)\n",
        "        ypred += list(predicted.cpu().numpy())\n",
        "        ytrue += list(labels.cpu().numpy())\n",
        "    return ypred, ytrue"
      ],
      "execution_count": null,
      "outputs": []
    },
    {
      "cell_type": "code",
      "metadata": {
        "id": "3lzKJM84NVnr"
      },
      "source": [
        "def run(model):\n",
        "  datasets = prepare_data(transform_train_no_aug)\n",
        "  loaders = prepare_loader(datasets)\n",
        "\n",
        "  device = torch.device(\"cuda\" if torch.cuda.is_available() else \"cpu\")\n",
        "  model.to(device=device)\n",
        "\n",
        "  accuracy = []\n",
        "  classes = ['2C','3C','4C']\n",
        "\n",
        "  for epoch in range(10):\n",
        "    train_epoch(epoch, model, loaders.train, device)\n",
        "    ypred_test, ytrue_test = test_epoch(epoch, model, loaders.test, device)\n",
        "    print(classification_report(ytrue_test, ypred_test, target_names=classes))\n",
        "\n",
        "    # calculate accurency\n",
        "    ypred_test = np.array(ypred_test)\n",
        "    ytrue_test = np.array(ytrue_test)\n",
        "    accuracy = (ytrue_test == ypred_test).sum() / len(ytrue_test)\n",
        "    print()"
      ],
      "execution_count": null,
      "outputs": []
    },
    {
      "cell_type": "code",
      "metadata": {
        "id": "6_WI_fbT2c8D"
      },
      "source": [
        "def main():\n",
        "  for model_name, model in pretrained_models.items():\n",
        "    run(model)"
      ],
      "execution_count": null,
      "outputs": []
    },
    {
      "cell_type": "code",
      "metadata": {
        "id": "lBq-Kf5STzQg"
      },
      "source": [
        "if __name__ == \"__main__\":\n",
        "  main()"
      ],
      "execution_count": null,
      "outputs": []
    }
  ]
}